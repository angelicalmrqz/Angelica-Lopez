{
  "nbformat": 4,
  "nbformat_minor": 0,
  "metadata": {
    "colab": {
      "name": "Examen-Medio-Curso-IA-AngelicaLopezMarquez-1943538",
      "provenance": [],
      "authorship_tag": "ABX9TyOHZe7DrhzK25jxypmzeP74",
      "include_colab_link": true
    },
    "kernelspec": {
      "name": "python3",
      "display_name": "Python 3"
    },
    "language_info": {
      "name": "python"
    }
  },
  "cells": [
    {
      "cell_type": "markdown",
      "metadata": {
        "id": "view-in-github",
        "colab_type": "text"
      },
      "source": [
        "<a href=\"https://colab.research.google.com/github/angelicalmrqz/Angelica-Lopez/blob/main/Examen_Medio_Curso_IA_AngelicaLopezMarquez_1943538.ipynb\" target=\"_parent\"><img src=\"https://colab.research.google.com/assets/colab-badge.svg\" alt=\"Open In Colab\"/></a>"
      ]
    },
    {
      "cell_type": "code",
      "metadata": {
        "colab": {
          "base_uri": "https://localhost:8080/"
        },
        "id": "Co2GsPL8VckW",
        "outputId": "f85099ea-1e1c-4346-ffc0-63ff1519631e"
      },
      "source": [
        "#Desarrollar un programa que remueva los números pares de la lista:\n",
        "#ex_lista = [10, 15, 17, 21, 22, 34, 37, 40, 45, 52, 66, 68, 81, 84, 91, 94, 102, 105, 109]\n",
        "#imprima la lista después de remover los números pares.\n",
        "\n",
        "print(\"La lista de numeros se muestra a continuación: \")\n",
        "\n",
        "print(\"[10, 15, 17, 21, 22, 34, 37, 40, 45, 52, 66, 68, 81, 84, 91, 94, 102, 105, 109].\")\n",
        "\n",
        "print(\"Ahora, removeremos de dicha lista todos los numeros pares. \")\n",
        "\n",
        "ex_lista = [10, 15, 17, 21, 22, 34, 37, 40, 45, 52, 66, 68, 81, 84, 91, 94, 102, 105, 109]\n",
        "Lista = [x for x in ex_lista if x % 2]\n",
        "\n",
        "print(\"Nuestra nueva lista queda de la siguiente forma: \", Lista)"
      ],
      "execution_count": 3,
      "outputs": [
        {
          "output_type": "stream",
          "name": "stdout",
          "text": [
            "La lista de numeros se muestra a continuación: \n",
            "[10, 15, 17, 21, 22, 34, 37, 40, 45, 52, 66, 68, 81, 84, 91, 94, 102, 105, 109].\n",
            "Ahora, removeremos de dicha lista todos los numeros pares. \n",
            "Nuestra nueva lista queda de la siguiente forma:  [15, 17, 21, 37, 45, 81, 91, 105, 109]\n"
          ]
        }
      ]
    },
    {
      "cell_type": "code",
      "metadata": {
        "colab": {
          "base_uri": "https://localhost:8080/"
        },
        "id": "ytXmLfYea6nf",
        "outputId": "c9efffe2-8678-4fe1-bd4c-dd67af7640e6"
      },
      "source": [
        "#Desarrollar un programa que,\n",
        "#Pregunte al usuario por sus 5 películas favoritas (dato tipo string), empezando por la mas favorita y terminando en la posición 5 con la menos favorita. \n",
        "#Almacene estos datos en una lista. \n",
        "#Por último, iterar sobre la lista generada para imprimir 5 oraciones (1 con cada título de película) que digan: \"La película [TÍTULO DE PELÍCULA] está en la posición [índice+1] de mi top 5\". \n",
        "      #TÍTULO DE PELÍCULA: corresponde a los nombres almacenados previamente en su lista. \n",
        "      #Recordatorio: Índice es la posición de un elemento dentro de una lista. \"\"\"\n",
        "    \n",
        "Nombre = input(\"Introduce tu nombre \")\n",
        "\n",
        "print(\"Hola \", Nombre , \", a continuación te preguntaremos tus cinco películas favoritas.\")\n",
        "\n",
        "Lista = []\n",
        "\n",
        "i = 1\n",
        "while i<=5:\n",
        "    Peliculas = input(f\"¿Cuál es tu {i}a. película favorita? \")\n",
        "    i+=1\n",
        "    Lista.append(Peliculas)\n",
        "\n",
        "j = 1\n",
        "for j in range(0, len(Lista)):\n",
        "    print(f\"La película titulada {Lista[j]} está en la posicion # {j+1} de tu top 5.\")"
      ],
      "execution_count": 10,
      "outputs": [
        {
          "output_type": "stream",
          "name": "stdout",
          "text": [
            "Introduce tu nombre Angelica\n",
            "Hola  Angelica , a continuación te preguntaremos tus cinco películas favoritas.\n",
            "¿Cuál es tu 1a. película favorita? Desde mi Cielo \n",
            "¿Cuál es tu 2a. película favorita? Aladdin \n",
            "¿Cuál es tu 3a. película favorita? Moana\n",
            "¿Cuál es tu 4a. película favorita? Supercool\n",
            "¿Cuál es tu 5a. película favorita? La Bella y la Bestia\n",
            "La película titulada Desde mi Cielo  está en la posicion # 1 de tu top 5.\n",
            "La película titulada Aladdin  está en la posicion # 2 de tu top 5.\n",
            "La película titulada Moana está en la posicion # 3 de tu top 5.\n",
            "La película titulada Supercool está en la posicion # 4 de tu top 5.\n",
            "La película titulada La Bella y la Bestia está en la posicion # 5 de tu top 5.\n"
          ]
        }
      ]
    }
  ]
}
