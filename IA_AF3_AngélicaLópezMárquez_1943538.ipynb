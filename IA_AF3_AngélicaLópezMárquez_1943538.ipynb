{
  "nbformat": 4,
  "nbformat_minor": 0,
  "metadata": {
    "colab": {
      "name": "IA_AF3_AngélicaLópezMárquez_1943538.ipynb",
      "provenance": [],
      "authorship_tag": "ABX9TyM7kE1vIwqDK7gjvCnWc9Wp",
      "include_colab_link": true
    },
    "kernelspec": {
      "name": "python3",
      "display_name": "Python 3"
    },
    "language_info": {
      "name": "python"
    }
  },
  "cells": [
    {
      "cell_type": "markdown",
      "metadata": {
        "id": "view-in-github",
        "colab_type": "text"
      },
      "source": [
        "<a href=\"https://colab.research.google.com/github/angelicalmrqz/Angelica-Lopez/blob/main/IA_AF3_Ang%C3%A9licaL%C3%B3pezM%C3%A1rquez_1943538.ipynb\" target=\"_parent\"><img src=\"https://colab.research.google.com/assets/colab-badge.svg\" alt=\"Open In Colab\"/></a>"
      ]
    },
    {
      "cell_type": "code",
      "metadata": {
        "id": "1-w-L27IumVQ"
      },
      "source": [
        "Actividad 3.- Ejercicios Introducción Python, 2da parte. Angélica López Márquez - 1943538 - Jueves N4 "
      ],
      "execution_count": null,
      "outputs": []
    },
    {
      "cell_type": "code",
      "metadata": {
        "colab": {
          "base_uri": "https://localhost:8080/"
        },
        "id": "eDq-eSoZUkgn",
        "outputId": "d619c196-2ac8-4417-cbbd-2ae19d7f141c"
      },
      "source": [
        "\"Ejercicio#1\"\n",
        "'''Piensa en 7 comidas diferente que te gusten. Implementa un programa que pregunte por las 7 comidas, las almacene en una lista\n",
        "y que posteriermente imprima cada una de ellas utilizando uno de los ciclos comentados en clase.'''\n",
        "\n",
        "#Primero preguntamos el nombre de la persona. \n",
        "\n",
        "Nombre = input(\"Introduce tu nombre: \")\n",
        "\n",
        "#Preguntamos por sus 7 comidas favoritas y guardamos cada una en una variable. \n",
        "print(Nombre + \", ¿Cuáles son tus 7 comidas favoritas?\")\n",
        "Comida1 = input(\"Mi primer comida favorita es: \")\n",
        "Comida2 = input(\"Mi segunda comida favorita es: \")\n",
        "Comida3 = input(\"Mi tercer comida favorita es: \")\n",
        "Comida4 = input(\"Mi cuarta comida favorita es: \")\n",
        "Comida5 = input(\"Mi quinta comida favorita es: \")\n",
        "Comida6 = input(\"Mi sexta comida favorita es: \")\n",
        "Comida7 = input(\"Mi septima y ultima comida favorita es: \")\n",
        "\n",
        "ComidasFavoritas = [Comida1, Comida2, Comida3, Comida4, Comida5, Comida6, Comida7]\n",
        "\n",
        "#Imprimimos las 7 comidas favoritas. \n",
        "print(Nombre+ \", tus siete comidas favoritas son: \")\n",
        "for x in ComidasFavoritas:\n",
        "    print(x)"
      ],
      "execution_count": null,
      "outputs": [
        {
          "output_type": "stream",
          "name": "stdout",
          "text": [
            "Introduce tu nombre: Angelica\n",
            "Angelica, ¿Cuáles son tus 7 comidas favoritas?\n",
            "Mi primer comida favorita es: Chilaquiles\n",
            "Mi segunda comida favorita es: Avena\n",
            "Mi tercer comida favorita es: Huevos\n",
            "Mi cuarta comida favorita es: Boneless\n",
            "Mi quinta comida favorita es: Waffles\n",
            "Mi sexta comida favorita es: Tacos\n",
            "Mi septima y ultima comida favorita es: Pollo\n",
            "Angelica, tus siete comidas favoritas son: \n",
            "Chilaquiles\n",
            "Avena\n",
            "Huevos\n",
            "Boneless\n",
            "Waffles\n",
            "Tacos\n",
            "Pollo\n"
          ]
        }
      ]
    },
    {
      "cell_type": "code",
      "metadata": {
        "colab": {
          "base_uri": "https://localhost:8080/"
        },
        "id": "cKyLeyIqU45m",
        "outputId": "eeac3756-eb25-429d-c9ec-7515f2d1be00"
      },
      "source": [
        "\"Ejercicio#1.2\"\n",
        "''' Modifica el ejercicio 1.1 para que imprima cada una de las comidas favoritas junto con una oracición inicial: \n",
        "\"Una de mis comidas favoritas es [comida1]\". '''\n",
        "\n",
        "#Se pregunta el nombre de la persona. \n",
        "Nombre = input(\"Introduce tu nombre: \")\n",
        "print(Nombre + \", ¿Cuáles son tus 7 comidas favoritas?\")\n",
        "\n",
        "#Se preguntan las 7 comidas favoritas  \n",
        "Comida1 = input(\"Mi primer comida favorita es: \")\n",
        "Comida2 = input(\"Mi segunda comida favorita es: \")\n",
        "Comida3 = input(\"Mi tercer comida favorita es: \")\n",
        "Comida4 = input(\"Mi cuarta comida favorita es: \")\n",
        "Comida5 = input(\"Mi quinta comida favorita es: \")\n",
        "Comida6 = input(\"Mi sexta comida favorita es: \")\n",
        "Comida7 = input(\"Mi septima y ultima comida favorita es: \")\n",
        "\n",
        "ComidasFavoritas = [Comida1, Comida2, Comida3, Comida4, Comida5, Comida6, Comida7]\n",
        "print(Nombre+ \", \")\n",
        "for comidas in ComidasFavoritas:\n",
        "  #Imprimimos cada comida favorita con su oración inicial \n",
        "  print(\"Una de tus comidas favoritas es: \" + str(comidas))"
      ],
      "execution_count": null,
      "outputs": [
        {
          "output_type": "stream",
          "name": "stdout",
          "text": [
            "Introduce tu nombre: Angelica\n",
            "Angelica, ¿Cuáles son tus 7 comidas favoritas?\n",
            "Mi primer comida favorita es: Chilaquiles\n",
            "Mi segunda comida favorita es: Avena\n",
            "Mi tercer comida favorita es: Huevos\n",
            "Mi cuarta comida favorita es: Tacos\n",
            "Mi quinta comida favorita es: Waffles\n",
            "Mi sexta comida favorita es: Hotcakes\n",
            "Mi septima y ultima comida favorita es: Boneless\n",
            "Angelica, \n",
            "Una de tus comidas favoritas es: Chilaquiles\n",
            "Una de tus comidas favoritas es: Avena\n",
            "Una de tus comidas favoritas es: Huevos\n",
            "Una de tus comidas favoritas es: Tacos\n",
            "Una de tus comidas favoritas es: Waffles\n",
            "Una de tus comidas favoritas es: Hotcakes\n",
            "Una de tus comidas favoritas es: Boneless\n"
          ]
        }
      ]
    },
    {
      "cell_type": "code",
      "metadata": {
        "colab": {
          "base_uri": "https://localhost:8080/"
        },
        "id": "2el0UThJZh9x",
        "outputId": "bb76dda2-21df-4c87-be49-52f0902e74bc"
      },
      "source": [
        "\"Ejercicio#2\"\n",
        "''' Crear un juego de piedra, papel o tijera de dos jugadores. El programa preguntará por la opción \n",
        "del jugador 1 y la opción del jugador 2 y dará como resultado quien ganó el juego. '''\n",
        "#Primeramente se pregunta por los nombres de los jugadores.\n",
        "#La función upper se utiliza para convertir todos los caracteres alfabéticos de la cadena en mayúscula.\n",
        "\n",
        "print(\"Hola! Introduce el nombre de los dos jugadores a continuación: \")\n",
        "Nombre1 = input(\"El nombre del primer jugador es: \")\n",
        "Nombre1 = Nombre1.upper()\n",
        "Nombre2 = input(\"El nombre del segundo jugador es: \")\n",
        "Nombre2 = Nombre2.upper()\n",
        "\n",
        "#Se establecen las opciones para el juego para que los jugadores seleccionen.\n",
        "\n",
        "print(\"Elige PIEDRA, PAPEL o TIJERA e introduce tu selección\")\n",
        "\n",
        "#La función upper se utiliza para convertir todos los caracteres alfabéticos de la cadena en mayúscula.\n",
        "Jugador1 = input(Nombre1 + \" tu elección es: \")\n",
        "Jugador1 = Jugador1.upper()\n",
        "Jugador2 = input(Nombre2 + \" tu elección es: \")\n",
        "Jugador2 = Jugador2.upper()\n",
        "\n",
        "#Recordamos las condiciones para ganar el juego\n",
        "#PAPEL le gana a PIEDRA\n",
        "#TIJERA le gana a PAPEL\n",
        "#PIEDRA le gana a TIJERA\n",
        "\n",
        "#Se introduce la condición para empate\n",
        "if Jugador1 == Jugador2:\n",
        "    print(\"Ambos escogieron la misma opción. Es un empate.\")\n",
        "\n",
        "#Se introducen las condiciones para que gane el Jugador 1\n",
        "elif (Jugador1 == \"PIEDRA\" and Jugador2 == \"TIJERA\") or  (Jugador1 == \"TIJERA\" and Jugador2 == \"PAPEL\") or (Jugador1 == \"PAPEL\" and Jugador2 == \"PIEDRA\"):\n",
        "    print(\"El jugador \" + Nombre1 + \" eligió \" + Jugador1 + \" y el jugador \" + Nombre2 + \" eligió \" + Jugador2 + \".\\n\" + Nombre1 + \" le gana a \" + Nombre2 + \".\")\n",
        "\n",
        "#Se introducen ahora las condiciones para que gane el jugador 2\n",
        "elif (Jugador1 == \"TIJERA\" and Jugador2 == \"PIEDRA\") or (Jugador1 == \"PAPEL\" and Jugador2 == \"TIJERA\") or (Jugador1 == \"PIEDRA\" and Jugador2 == \"PAPEL\"):\n",
        "    print(\"El jugador \" + Nombre2 + \" eligió \" + Jugador2 + \" y el jugador \" + Nombre1 + \" eligió \" + Jugador1 + \".\\n\" + Nombre2 + \" le gana a \" + Nombre1 + \".\")\n",
        "\n",
        "#Se establece ahora un else por si algún jugador escoge una opción no permitida.\n",
        "else:\n",
        "    print(\"Se introdució una opción no permitida dentro del juego.\")"
      ],
      "execution_count": null,
      "outputs": [
        {
          "output_type": "stream",
          "name": "stdout",
          "text": [
            "Hola! Introduce el nombre de los dos jugadores a continuación: \n",
            "El nombre del primer jugador es: Angelica\n",
            "El nombre del segundo jugador es: Sofia\n",
            "Elige PIEDRA, PAPEL o TIJERA e introduce tu selección\n",
            "ANGELICA tu elección es: PIEDRA\n",
            "SOFIA tu elección es: PAPEL\n",
            "El jugador SOFIA eligió PAPEL y el jugador ANGELICA eligió PIEDRA.\n",
            "SOFIA le gana a ANGELICA.\n"
          ]
        }
      ]
    },
    {
      "cell_type": "code",
      "metadata": {
        "colab": {
          "base_uri": "https://localhost:8080/"
        },
        "id": "tjodv02OGtxp",
        "outputId": "7ab5e6bb-55b5-4918-e7ac-7e0d914fa419"
      },
      "source": [
        "\"Ejercicio#3\"\n",
        "''' Implementar un programa que imprima el siguiente patron:\n",
        "\n",
        "123456\n",
        "12345\n",
        "1234\n",
        "123\n",
        "12\n",
        "1\n",
        "12\n",
        "123\n",
        "1234\n",
        "12345\n",
        "123456 '''\n",
        "\n",
        "lista = (1, 2, 3, 4, 5, 6)\n",
        "\n",
        "#Usamos rangos de las listas para imprimir el patrón deseado.\n",
        "#Las listas en Python son un tipo contenedor, compuesto, que se usan para almacenar conjuntos de elementos relacionados del mismo tipo o de tipos distintos.\n",
        "\n",
        "#Se imprime la lista primero y después continuamos indicando al programa para formar el patrón deseado. \n",
        "print(lista)\n",
        "print(lista[0:6])\n",
        "print(lista[0:5])\n",
        "print(lista[0:4])\n",
        "print(lista[0:3])\n",
        "print(lista[0:2])\n",
        "print(lista[0])\n",
        "print(lista[0:2])\n",
        "print(lista[0:3])\n",
        "print(lista[0:4])\n",
        "print(lista[0:5])\n",
        "print(lista[0:6])\n",
        "print(lista)"
      ],
      "execution_count": null,
      "outputs": [
        {
          "output_type": "stream",
          "name": "stdout",
          "text": [
            "(1, 2, 3, 4, 5, 6)\n",
            "(1, 2, 3, 4, 5, 6)\n",
            "(1, 2, 3, 4, 5)\n",
            "(1, 2, 3, 4)\n",
            "(1, 2, 3)\n",
            "(1, 2)\n",
            "1\n",
            "(1, 2)\n",
            "(1, 2, 3)\n",
            "(1, 2, 3, 4)\n",
            "(1, 2, 3, 4, 5)\n",
            "(1, 2, 3, 4, 5, 6)\n",
            "(1, 2, 3, 4, 5, 6)\n"
          ]
        }
      ]
    }
  ]
}