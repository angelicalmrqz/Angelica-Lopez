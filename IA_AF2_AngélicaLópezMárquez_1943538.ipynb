{
  "nbformat": 4,
  "nbformat_minor": 0,
  "metadata": {
    "colab": {
      "name": "IA_AF2_AngélicaLópezMárquez_1943538.ipynb",
      "provenance": [],
      "authorship_tag": "ABX9TyNwiQmbvNZOFAWD3cZOUe1Q",
      "include_colab_link": true
    },
    "kernelspec": {
      "name": "python3",
      "display_name": "Python 3"
    },
    "language_info": {
      "name": "python"
    }
  },
  "cells": [
    {
      "cell_type": "markdown",
      "metadata": {
        "id": "view-in-github",
        "colab_type": "text"
      },
      "source": [
        "<a href=\"https://colab.research.google.com/github/angelicalmrqz/Angelica-Lopez/blob/main/IA_AF2_Ang%C3%A9licaL%C3%B3pezM%C3%A1rquez_1943538.ipynb\" target=\"_parent\"><img src=\"https://colab.research.google.com/assets/colab-badge.svg\" alt=\"Open In Colab\"/></a>"
      ]
    },
    {
      "cell_type": "code",
      "metadata": {
        "id": "1-w-L27IumVQ"
      },
      "source": [
        "Actividad 2.- Ejercicios Introducción Python. Angélica López Márquez - 1943538 - Jueves N4 "
      ],
      "execution_count": null,
      "outputs": []
    },
    {
      "cell_type": "code",
      "metadata": {
        "colab": {
          "base_uri": "https://localhost:8080/"
        },
        "id": "eDq-eSoZUkgn",
        "outputId": "cae71dc8-f6cd-4ce5-9813-f52e383b3c72"
      },
      "source": [
        "\"Ejercicio 1\"\n",
        "'''Crear un programa que pregunte al usuario por su nombre, edad, una frase favorita y autor de la frase favorita.\n",
        "El programa deberá de imprimir un mensaje compuesto por el nombre y edad del usuario diciendo que su frase\n",
        "favorita es la que dió anteriormente y el autor de dicha frase es el nombre previamente dado.\n",
        "Aquí habrá que realizar una concatenación de variables.'''\n",
        "\n",
        "Nombre = input(\"¿Cuál es tu nombre? \")\n",
        "#Se crea la variable Nombre\n",
        "Edad = input(\"¿Cuántos años tienes? \")\n",
        "#Se crea la variable Edad\n",
        "Frase = input(\"¿Cuál es tu frase favorita? \")\n",
        "#Se crea la variable Frase\n",
        "Autor = input(\"¿Quién es el autor de tu frase favorita? \")\n",
        "#Se crea la variable Autor\n",
        "print(\"Tu nombre es \"+ Nombre + \" y tienes \" + Edad +\" años de edad.\\nTu frase favorita es '\" + Frase + \"' del autor \" + Autor + \".\")\n",
        "#Se imprime el resultado"
      ],
      "execution_count": null,
      "outputs": [
        {
          "output_type": "stream",
          "name": "stdout",
          "text": [
            "¿Cuál es tu nombre? Angelica\n",
            "¿Cuántos años tienes? 22\n",
            "¿Cuál es tu frase favorita? Si puedes soñarlo, puedes lograrlo\n",
            "¿Quién es el autor de tu frase favorita? Walt Disney\n",
            "Tu nombre es Angelica y tienes 22 años de edad.\n",
            "Tu frase favorita es 'Si puedes soñarlo, puedes lograrlo' del autor Walt Disney.\n"
          ]
        }
      ]
    },
    {
      "cell_type": "code",
      "metadata": {
        "id": "DCDUtqiueI-5"
      },
      "source": [
        "from google.colab import drive\n",
        "drive.mount('/content/drive')"
      ],
      "execution_count": null,
      "outputs": []
    },
    {
      "cell_type": "code",
      "metadata": {
        "colab": {
          "base_uri": "https://localhost:8080/"
        },
        "id": "cKyLeyIqU45m",
        "outputId": "15312480-cb10-43a4-d8c9-f77cf4d471a5"
      },
      "source": [
        "\"Ejercicio 2\"\n",
        "'''Crear un programa que le pida al usuario capturar dos números enteros y dos números flotantes.\n",
        "Después, realizará la suma, resta, multiplicación y división, de ambos pares de numeros. \n",
        "Como resultado se deberán de obtener 8 valores. Imprimir todos estos resultados.'''\n",
        "\n",
        "NumeroEntero1 = int(input(\"Ingrese el primer número entero: \"))\n",
        "#Se crea la variable NumeroEntero1\n",
        "NumeroEntero2 = int(input(\"Ingrese el segundo número entero: \"))\n",
        "#Se crea la variable NumeroEntero2\n",
        "Flotante1= float(input(\"Ingrese el primer número decimal: \"))\n",
        "#Se crea la variable Flotante1\n",
        "Flotante2= float(input(\"Ingrese el segundo número decimal: \"))\n",
        "#Se crea la variable Flotante2\n",
        "print(\"La suma de los dos números enteros es: \")\n",
        "print(NumeroEntero1 + NumeroEntero2)\n",
        "print(\"La resta del primer número entero menos el segundo número entero da un resultado de:\")\n",
        "print(NumeroEntero1 - NumeroEntero2)\n",
        "print(\"El producto de los dos números enteros es:\")\n",
        "print(NumeroEntero1 * NumeroEntero2)\n",
        "print(\"La división del primer numero entero entre el segundo número entero da un resultado de:\")\n",
        "print(NumeroEntero1 / NumeroEntero2)\n",
        "print(\"La suma de los dos números flotantes es: \")\n",
        "print(Flotante1 + Flotante2)\n",
        "print(\"La resta del primer flotante menos el segundo flotante da un resultado de:\")\n",
        "print(Flotante1 - Flotante2)\n",
        "print(\"El producto de los dos números flotantes es:\")\n",
        "print(Flotante1 * Flotante2)\n",
        "print(\"La división del primer números flotantes entre el segundo da un resultado de:\")\n",
        "print(Flotante1 / Flotante2)\n",
        "#Se imprimen los resultados"
      ],
      "execution_count": null,
      "outputs": [
        {
          "output_type": "stream",
          "name": "stdout",
          "text": [
            "Ingrese el primer número entero: 2\n",
            "Ingrese el segundo número entero: 4\n",
            "Ingrese el primer número decimal: 1.2\n",
            "Ingrese el segundo número decimal: 1.5\n",
            "La suma de los dos números enteros es: \n",
            "6\n",
            "La resta del primer número entero menos el segundo número entero da un resultado de:\n",
            "-2\n",
            "El producto de los dos números enteros es:\n",
            "8\n",
            "La división del primer numero entero entre el segundo número entero da un resultado de:\n",
            "0.5\n",
            "La suma de los dos números flotantes es: \n",
            "2.7\n",
            "La resta del primer flotante menos el segundo flotante da un resultado de:\n",
            "-0.30000000000000004\n",
            "El producto de los dos números flotantes es:\n",
            "1.7999999999999998\n",
            "La división del primer números flotantes entre el segundo da un resultado de:\n",
            "0.7999999999999999\n"
          ]
        }
      ]
    },
    {
      "cell_type": "code",
      "metadata": {
        "id": "UuEPPIKmVFdh"
      },
      "source": [
        ""
      ],
      "execution_count": null,
      "outputs": []
    },
    {
      "cell_type": "code",
      "metadata": {
        "colab": {
          "base_uri": "https://localhost:8080/"
        },
        "id": "2el0UThJZh9x",
        "outputId": "b2357a77-712a-403a-b3cd-672c1f8b0432"
      },
      "source": [
        "\"Ejercicio 3\"\n",
        "'''Crear un programa que evalúe dos expresiones lógicas con `and`, dos con `or` y dos con `not`. \n",
        "Cada expresión deberá hacer uso de operadores de comparación. '''\n",
        "\n",
        "print(1 == 1 and 9 < 10)\n",
        "#Se evalúa si ambas expresiones son verdaderas. Se espera que el resultado sea verdadero.\n",
        "\n",
        "print(10 < 8 and 5 < 10)\n",
        "#Se evalúa si ambas expresiones son verdaderas. Se espera que el resultado sea falso.\n",
        "\n",
        "print(8 == 8 or 3 < 2)\n",
        "#Se evalúa si alguna de las expresiones es verdadera. Se espera que el resultado sea verdadero. \n",
        "\n",
        "print(4 == 2 or 1 > 10)\n",
        "#Se evalúa si alguna de las expresiones es verdadera, se espera resultado falso.\n",
        "\n",
        "print(not(2 <= 2 and 3 > 1))\n",
        "#Se busca el resultado opuesto a la condición de la expresión. Se espera que el resultado sea falso.\n",
        "\n",
        "print(not(2 < 1 and 8 > 6))\n",
        "#Se busca el resultado opuesto a la condición de la expresión. Se espera que el resultado sea verdadero."
      ],
      "execution_count": null,
      "outputs": [
        {
          "output_type": "stream",
          "name": "stdout",
          "text": [
            "True\n",
            "False\n",
            "True\n",
            "False\n",
            "False\n",
            "True\n"
          ]
        }
      ]
    }
  ]
}